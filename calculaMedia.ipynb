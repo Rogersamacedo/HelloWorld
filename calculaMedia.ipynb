{
  "nbformat": 4,
  "nbformat_minor": 0,
  "metadata": {
    "colab": {
      "name": "Untitled1.ipynb",
      "provenance": [],
      "authorship_tag": "ABX9TyP/iopikds/PkSNpKg7spkc",
      "include_colab_link": true
    },
    "kernelspec": {
      "name": "python3",
      "display_name": "Python 3"
    }
  },
  "cells": [
    {
      "cell_type": "markdown",
      "metadata": {
        "id": "view-in-github",
        "colab_type": "text"
      },
      "source": [
        "<a href=\"https://colab.research.google.com/github/Rogersamacedo/HelloWorld/blob/master/calculaMedia.ipynb\" target=\"_parent\"><img src=\"https://colab.research.google.com/assets/colab-badge.svg\" alt=\"Open In Colab\"/></a>"
      ]
    },
    {
      "cell_type": "code",
      "metadata": {
        "id": "QzCCVjouEcOj",
        "colab_type": "code",
        "colab": {
          "base_uri": "https://localhost:8080/",
          "height": 85
        },
        "outputId": "0c93e329-40c4-496e-dbfa-a93fd2900292"
      },
      "source": [
        "def calculamediacombustivel():\n",
        "    lt = float(input(\"digite o litro/peso do produto: \"))\n",
        "    km1 = float(input(\"digete  o km inicial: \"))\n",
        "    km2 = float(input(\"digete  o km inicial: \"))\n",
        "    media = (km2 -km1) / lt\n",
        "    print(\"A média de consumo de combustibel por km é de: \", media)\n",
        "calculamediacombustivel()"
      ],
      "execution_count": 1,
      "outputs": [
        {
          "output_type": "stream",
          "text": [
            "digite o litro/peso do produto: 15\n",
            "digete  o km inicial: 30760\n",
            "digete  o km inicial: 30850\n",
            "A média de consumo de combustibel por km é de:  6.0\n"
          ],
          "name": "stdout"
        }
      ]
    }
  ]
}